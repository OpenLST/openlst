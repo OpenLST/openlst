{
 "cells": [
  {
   "cell_type": "code",
   "execution_count": 43,
   "metadata": {},
   "outputs": [],
   "source": [
    "import numpy as np"
   ]
  },
  {
   "cell_type": "code",
   "execution_count": 44,
   "metadata": {},
   "outputs": [],
   "source": [
    "frequency = 437e6\n",
    "chan_bw = 60268\n",
    "drate = 7416\n",
    "deviation = 3707\n",
    "\n",
    "f_ref = 27e6"
   ]
  },
  {
   "cell_type": "code",
   "execution_count": 45,
   "metadata": {},
   "outputs": [
    {
     "name": "stdout",
     "output_type": "stream",
     "text": [
      "f: 437000000.0, f_act: 436999877.9296875, FREQ: 0x102f68\n",
      "chan_bw: 60268, chan_bw_act: 60267.857142857145 , CHANBW_E: 0x3, CHANBW_M: 0x3\n",
      "drate: 7416, drate_act: 7415.771484375, DRATE_E: 0x8, DRATE_M: 0x20\n",
      "deviation: 3707, dev_act: 3707.8857421875, DEVIATN_E: 1, DEVIATN_M: 1\n"
     ]
    }
   ],
   "source": [
    "# f_carrier = (f_ref / 2^16) * FREQ\n",
    "FREQ = int(2**16 * frequency / f_ref)\n",
    "f_actual = FREQ * f_ref / 2**16\n",
    "\n",
    "# Keep offset and IF as defaults\n",
    "FREQOFF = 0\n",
    "FREQ_IF = 6\n",
    "\n",
    "FSCTRL0 = FREQOFF\n",
    "FSCTRL1 = FREQ_IF\n",
    "\n",
    "# Channel bandwidth\n",
    "if chan_bw < 60268:\n",
    "    chan_bw = 60268\n",
    "elif chan_bw > 843750:\n",
    "    chan_bw = 843750\n",
    "\n",
    "# BW_channel = f_ref / (8 * 2^CHANBW_E * (4 + CHANBW_M))\n",
    "CHANBW_E = int(19 - np.floor(np.log2(chan_bw) + 0.25))\n",
    "CHANBW_M = int(np.round(f_ref / (chan_bw * 8 * 2 ** CHANBW_E) - 4))\n",
    "\n",
    "assert CHANBW_E >= 0 and CHANBW_E < 4, CHANBW_E\n",
    "assert CHANBW_M >= 0 and CHANBW_M < 4, CHANBW_M\n",
    "\n",
    "chanbw_actual = f_ref / (8 * (4 + CHANBW_M) * 2**CHANBW_E)\n",
    "\n",
    "# Data rate\n",
    "# R_DATA = f_ref * 2^DRATE_E * (256 + DRATE_M) / 2^28\n",
    "DRATE_E = int(np.floor(np.log2(drate * 2**20 / f_ref)))\n",
    "DRATE_M = int(np.round(drate * 2**28 / (f_ref * 2**DRATE_E) - 256))\n",
    "\n",
    "assert DRATE_E >= 0 and DRATE_E < 16, DRATE_E\n",
    "assert DRATE_M >= 0 and DRATE_M < 256, DRATE_M\n",
    "\n",
    "drate_actual = f_ref * 2**DRATE_E * (256 + DRATE_M) / 2**28\n",
    "\n",
    "# Deviation\n",
    "# f_dev = f_ref * 2^DEVIATN_E * (8 + DEVIATN_M) / 2^17\n",
    "DEVIATN_E = int(np.floor(np.log2(deviation * 2**14 / f_ref)))\n",
    "DEVIATN_M = int(np.round(deviation * 2**17 / (f_ref * 2**DEVIATN_E) - 8))\n",
    "\n",
    "assert DEVIATN_E >= 0 and DEVIATN_E < 7, DEVIATN_E\n",
    "assert DEVIATN_M >= 0 and DEVIATN_M < 7, DEVIATN_M\n",
    "\n",
    "dev_act = f_ref * 2**DEVIATN_E * (8 + DEVIATN_M) / 2**17\n",
    "\n",
    "print(f\"f: {frequency}, f_act: {f_actual}, FREQ: {hex(FREQ)}\")\n",
    "print(f\"chan_bw: {chan_bw}, chan_bw_act: {chanbw_actual} , CHANBW_E: {hex(CHANBW_E)}, CHANBW_M: {hex(CHANBW_M)}\")\n",
    "print(f\"drate: {drate}, drate_act: {drate_actual}, DRATE_E: {hex(DRATE_E)}, DRATE_M: {hex(DRATE_M)}\")\n",
    "print(f\"deviation: {deviation}, dev_act: {dev_act}, DEVIATN_E: {DEVIATN_E}, DEVIATN_M: {DEVIATN_M}\")"
   ]
  }
 ],
 "metadata": {
  "kernelspec": {
   "display_name": "venv",
   "language": "python",
   "name": "python3"
  },
  "language_info": {
   "codemirror_mode": {
    "name": "ipython",
    "version": 3
   },
   "file_extension": ".py",
   "mimetype": "text/x-python",
   "name": "python",
   "nbconvert_exporter": "python",
   "pygments_lexer": "ipython3",
   "version": "3.8.10"
  }
 },
 "nbformat": 4,
 "nbformat_minor": 2
}
